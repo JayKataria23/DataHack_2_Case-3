{
 "cells": [
  {
   "cell_type": "code",
   "execution_count": 1,
   "metadata": {},
   "outputs": [],
   "source": [
    "import chromadb"
   ]
  },
  {
   "cell_type": "code",
   "execution_count": 3,
   "metadata": {},
   "outputs": [],
   "source": [
    "import pandas as pd"
   ]
  },
  {
   "cell_type": "code",
   "execution_count": 4,
   "metadata": {},
   "outputs": [],
   "source": [
    "df = pd.read_csv(\"/Users/jaykataria/Desktop/Data hack/jay/Copy of LawYantra Dataset - lawyer_summaries.csv\")"
   ]
  },
  {
   "cell_type": "code",
   "execution_count": 5,
   "metadata": {},
   "outputs": [
    {
     "data": {
      "text/html": [
       "<div>\n",
       "<style scoped>\n",
       "    .dataframe tbody tr th:only-of-type {\n",
       "        vertical-align: middle;\n",
       "    }\n",
       "\n",
       "    .dataframe tbody tr th {\n",
       "        vertical-align: top;\n",
       "    }\n",
       "\n",
       "    .dataframe thead th {\n",
       "        text-align: right;\n",
       "    }\n",
       "</style>\n",
       "<table border=\"1\" class=\"dataframe\">\n",
       "  <thead>\n",
       "    <tr style=\"text-align: right;\">\n",
       "      <th></th>\n",
       "      <th>Lawyer Names</th>\n",
       "      <th>Information</th>\n",
       "    </tr>\n",
       "  </thead>\n",
       "  <tbody>\n",
       "    <tr>\n",
       "      <th>0</th>\n",
       "      <td>Anay Ahluwalia</td>\n",
       "      <td>Anay Ahluwalia has 20 years of experience in C...</td>\n",
       "    </tr>\n",
       "    <tr>\n",
       "      <th>1</th>\n",
       "      <td>Arnav Dubey</td>\n",
       "      <td>Arnav Dubey has 29 years of experience in Inte...</td>\n",
       "    </tr>\n",
       "    <tr>\n",
       "      <th>2</th>\n",
       "      <td>Lavanya Lalla</td>\n",
       "      <td>Lavanya Lalla has 15 years of experience in Hu...</td>\n",
       "    </tr>\n",
       "    <tr>\n",
       "      <th>3</th>\n",
       "      <td>Armaan Khosla</td>\n",
       "      <td>Armaan Khosla has 11 years of experience in Co...</td>\n",
       "    </tr>\n",
       "    <tr>\n",
       "      <th>4</th>\n",
       "      <td>Advik Chaudry</td>\n",
       "      <td>Advik Chaudry has 8 years of experience in Hum...</td>\n",
       "    </tr>\n",
       "    <tr>\n",
       "      <th>...</th>\n",
       "      <td>...</td>\n",
       "      <td>...</td>\n",
       "    </tr>\n",
       "    <tr>\n",
       "      <th>1994</th>\n",
       "      <td>Amani Mallick</td>\n",
       "      <td>Amani Mallick has 18 years of experience in En...</td>\n",
       "    </tr>\n",
       "    <tr>\n",
       "      <th>1995</th>\n",
       "      <td>Zoya Shan</td>\n",
       "      <td>Zoya Shan has 18 years of experience in Family...</td>\n",
       "    </tr>\n",
       "    <tr>\n",
       "      <th>1996</th>\n",
       "      <td>Ayesha Dani</td>\n",
       "      <td>Ayesha Dani has 17 years of experience in Envi...</td>\n",
       "    </tr>\n",
       "    <tr>\n",
       "      <th>1997</th>\n",
       "      <td>Zaina Soman</td>\n",
       "      <td>Zaina Soman has 24 years of experience in Cons...</td>\n",
       "    </tr>\n",
       "    <tr>\n",
       "      <th>1998</th>\n",
       "      <td>Dhanush Krishnan</td>\n",
       "      <td>Dhanush Krishnan has 3 years of experience in ...</td>\n",
       "    </tr>\n",
       "  </tbody>\n",
       "</table>\n",
       "<p>1999 rows × 2 columns</p>\n",
       "</div>"
      ],
      "text/plain": [
       "          Lawyer Names                                        Information\n",
       "0       Anay Ahluwalia  Anay Ahluwalia has 20 years of experience in C...\n",
       "1          Arnav Dubey  Arnav Dubey has 29 years of experience in Inte...\n",
       "2        Lavanya Lalla  Lavanya Lalla has 15 years of experience in Hu...\n",
       "3        Armaan Khosla  Armaan Khosla has 11 years of experience in Co...\n",
       "4        Advik Chaudry  Advik Chaudry has 8 years of experience in Hum...\n",
       "...                ...                                                ...\n",
       "1994     Amani Mallick  Amani Mallick has 18 years of experience in En...\n",
       "1995         Zoya Shan  Zoya Shan has 18 years of experience in Family...\n",
       "1996       Ayesha Dani  Ayesha Dani has 17 years of experience in Envi...\n",
       "1997       Zaina Soman  Zaina Soman has 24 years of experience in Cons...\n",
       "1998  Dhanush Krishnan  Dhanush Krishnan has 3 years of experience in ...\n",
       "\n",
       "[1999 rows x 2 columns]"
      ]
     },
     "execution_count": 5,
     "metadata": {},
     "output_type": "execute_result"
    }
   ],
   "source": [
    "df"
   ]
  },
  {
   "cell_type": "code",
   "execution_count": 6,
   "metadata": {},
   "outputs": [],
   "source": [
    "client = chromadb.Client()"
   ]
  },
  {
   "cell_type": "code",
   "execution_count": 7,
   "metadata": {},
   "outputs": [
    {
     "data": {
      "text/plain": [
       "[]"
      ]
     },
     "execution_count": 7,
     "metadata": {},
     "output_type": "execute_result"
    }
   ],
   "source": [
    "client.list_collections()"
   ]
  },
  {
   "cell_type": "code",
   "execution_count": 8,
   "metadata": {},
   "outputs": [],
   "source": [
    "collection = client.create_collection(\"Lawyers\")"
   ]
  },
  {
   "cell_type": "code",
   "execution_count": 9,
   "metadata": {},
   "outputs": [],
   "source": [
    "collection.add(\n",
    "    documents=[str(doc) for doc in df.values.tolist()], \n",
    "    metadatas=[{\"source\": \"given\"}]*len([str(doc) for doc in df.values.tolist()]), \n",
    "    ids=list(df.index.map(str)), # unique for each doc\n",
    ")"
   ]
  },
  {
   "cell_type": "code",
   "execution_count": 10,
   "metadata": {},
   "outputs": [
    {
     "data": {
      "text/plain": [
       "{'ids': [['1204', '11']],\n",
       " 'distances': [[1.5347228050231934, 1.5651130676269531]],\n",
       " 'metadatas': [[{'source': 'given'}, {'source': 'given'}]],\n",
       " 'embeddings': None,\n",
       " 'documents': [[\"['Manikya Bath', 'Manikya Bath has 19 years of experience in Family Law, Labor Law, and Real Estate Law. He has a Client Feedback of 4.0 out of 5.0. His Jurisdiction is Supreme Court. He charges 104.56920201161151 USD per hour. He takes 91.35464698809652 Avg Days for Disposal. He speaks: Punjabi, Bengali and Tamil. He practices at Madan LLC, and is based in Kolkata. She does not provide pro bono services to the community. Her Client Demographics is Individuals.']\",\n",
       "   \"['Rohan Basu', 'Rohan Basu has 11 years of experience in Family Law, Real Estate Law, and Media and Entertainment Law. He has a Client Feedback of 4.0 out of 5.0. His Jurisdiction is High Court. He charges 318.2287689952678 USD per hour. He takes 69.75111543208091 Avg Days for Disposal. He speaks: Tamil, Telugu and Tamil. He practices at Chopra Inc, and is based in Kolkata. She does not provide pro bono services to the community. Her Client Demographics is Large Corporations.']\"]]}"
      ]
     },
     "execution_count": 10,
     "metadata": {},
     "output_type": "execute_result"
    }
   ],
   "source": [
    "collection.query(\n",
    "    query_texts=[\"Two brothers were tenant of a landlord in a commercial property.One brother had one son and a daughter (both minor) when he got divorced with his wife.The children's went into mother's custody at the time of divorce and after some years the husband (co tenant) also died. Now can the children of the deceased brother(co tenant) claim the right\"],\n",
    "    n_results=2,\n",
    ")"
   ]
  },
  {
   "cell_type": "code",
   "execution_count": 19,
   "metadata": {},
   "outputs": [],
   "source": [
    "import streamlit as st"
   ]
  },
  {
   "cell_type": "code",
   "execution_count": 20,
   "metadata": {},
   "outputs": [
    {
     "name": "stderr",
     "output_type": "stream",
     "text": [
      "2023-10-29 08:57:44.962 \n",
      "  \u001b[33m\u001b[1mWarning:\u001b[0m to view this Streamlit app on a browser, run it with the following\n",
      "  command:\n",
      "\n",
      "    streamlit run /opt/homebrew/lib/python3.11/site-packages/ipykernel_launcher.py [ARGUMENTS]\n"
     ]
    },
    {
     "data": {
      "text/plain": [
       "DeltaGenerator()"
      ]
     },
     "execution_count": 20,
     "metadata": {},
     "output_type": "execute_result"
    }
   ],
   "source": [
    "st.title(\"Lawyer Query 2 using VectorDB\")\n",
    "st.markdown(\"###\")\n",
    "query=st.text_input(\"Enter your query here👇\")\n",
    "\n",
    "\n",
    "st.subheader(collection.query(\n",
    "    query_texts=[query],\n",
    "    n_results=10,\n",
    "))"
   ]
  }
 ],
 "metadata": {
  "kernelspec": {
   "display_name": "Python 3",
   "language": "python",
   "name": "python3"
  },
  "language_info": {
   "codemirror_mode": {
    "name": "ipython",
    "version": 3
   },
   "file_extension": ".py",
   "mimetype": "text/x-python",
   "name": "python",
   "nbconvert_exporter": "python",
   "pygments_lexer": "ipython3",
   "version": "3.11.4"
  }
 },
 "nbformat": 4,
 "nbformat_minor": 2
}
